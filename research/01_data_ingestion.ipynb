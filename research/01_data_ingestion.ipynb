{
 "cells": [
  {
   "cell_type": "code",
   "execution_count": 1,
   "metadata": {},
   "outputs": [],
   "source": [
    "\n",
    "import os"
   ]
  },
  {
   "cell_type": "code",
   "execution_count": 2,
   "metadata": {},
   "outputs": [
    {
     "data": {
      "text/plain": [
       "'/Volumes/RRR/Macbook-workdrive/DataScienceEnd2EndProjects/Chicken-Disease-Classification/research'"
      ]
     },
     "execution_count": 2,
     "metadata": {},
     "output_type": "execute_result"
    }
   ],
   "source": [
    "%pwd"
   ]
  },
  {
   "cell_type": "code",
   "execution_count": 3,
   "metadata": {},
   "outputs": [],
   "source": [
    "os.chdir(\"../\")\n"
   ]
  },
  {
   "cell_type": "code",
   "execution_count": 4,
   "metadata": {},
   "outputs": [
    {
     "data": {
      "text/plain": [
       "'/Volumes/RRR/Macbook-workdrive/DataScienceEnd2EndProjects/Chicken-Disease-Classification'"
      ]
     },
     "execution_count": 4,
     "metadata": {},
     "output_type": "execute_result"
    }
   ],
   "source": [
    "%pwd"
   ]
  },
  {
   "cell_type": "code",
   "execution_count": 5,
   "metadata": {},
   "outputs": [],
   "source": [
    "from dataclasses import dataclass\n",
    "from pathlib import Path\n",
    "\n",
    "@dataclass(frozen=True)\n",
    "class DataIngestionConfig:\n",
    "    root_dir: Path\n",
    "    source_URL: str\n",
    "    local_data_file: Path\n",
    "    unzip_dir: Path"
   ]
  },
  {
   "cell_type": "code",
   "execution_count": 6,
   "metadata": {},
   "outputs": [],
   "source": [
    "from cnnClassifier.constants import *\n",
    "from cnnClassifier.utils.common import read_yaml, create_directories"
   ]
  },
  {
   "cell_type": "code",
   "execution_count": 7,
   "metadata": {},
   "outputs": [],
   "source": [
    "class ConfigurationManager:\n",
    "    def __init__(self, config_filepath = CONFIG_FILE_PATH, params_filepath = PARAMS_FILE_PATH):\n",
    "        self.config = read_yaml(config_filepath)\n",
    "        self.params = read_yaml(params_filepath)\n",
    "        \n",
    "        create_directories([self.config.artifacts_root])\n",
    "    \n",
    "    def get_data_ingestion_config(self) -> DataIngestionConfig:\n",
    "        config = self.config.data_ingestion\n",
    "\n",
    "        create_directories([config.root_dir])\n",
    "\n",
    "        data_ingestion_config = DataIngestionConfig(\n",
    "            root_dir=config.root_dir,\n",
    "            source_URL=config.source_URL,\n",
    "            local_data_file=config.local_data_file,\n",
    "            unzip_dir=config.unzip_dir \n",
    "        )\n",
    "\n",
    "        return data_ingestion_config"
   ]
  },
  {
   "cell_type": "code",
   "execution_count": 8,
   "metadata": {},
   "outputs": [],
   "source": [
    "import os\n",
    "import urllib.request as request\n",
    "from cnnClassifier import logger\n",
    "from cnnClassifier.utils.common import get_size"
   ]
  },
  {
   "cell_type": "code",
   "execution_count": 9,
   "metadata": {},
   "outputs": [],
   "source": [
    "class DataIngestion:\n",
    "    def __init__(self, config: DataIngestionConfig):\n",
    "        self.config = config\n",
    "    \n",
    "    def download_data(self):\n",
    "        if not os.path.exists(self.config.local_data_file):\n",
    "            filename, header = request.urlretrieve(\n",
    "                self.config.source_URL,\n",
    "                self.config.local_data_file\n",
    "            )\n",
    "            logger.info(f\"Downloaded {get_size(Path(self.config.local_data_file))} from {self.config.source_URL} to {self.config.local_data_file}\")\n",
    "        else:\n",
    "            logger.info(f\"File {self.config.local_data_file} already exists\")\n",
    "            logger.info(f\"File size: {get_size(Path(self.config.local_data_file))}\")\n",
    "    \n",
    "    def unzip_data(self):\n",
    "        if not os.path.exists(self.config.unzip_dir):\n",
    "            os.makedirs(self.config.unzip_dir)\n",
    "            logger.info(f\"Created directory {self.config.unzip_dir}\")\n",
    "        else:\n",
    "            logger.info(f\"Directory {self.config.unzip_dir} already exists\")\n",
    "        \n",
    "        logger.info(f\"Unzipping {self.config.local_data_file} to {self.config.unzip_dir}\")\n",
    "        import zipfile\n",
    "        with zipfile.ZipFile(self.config.local_data_file, 'r') as zip_ref:\n",
    "            zip_ref.extractall(self.config.unzip_dir)\n",
    "        logger.info(f\"Unzipped {self.config.local_data_file} to {self.config.unzip_dir}\")\n",
    "                    "
   ]
  },
  {
   "cell_type": "code",
   "execution_count": 10,
   "metadata": {},
   "outputs": [
    {
     "name": "stdout",
     "output_type": "stream",
     "text": [
      "[[2024-05-14 20:30:36,116]: INFO: common: yaml file: config/config.yaml loaded successfully]\n",
      "[[2024-05-14 20:30:36,118]: INFO: common: yaml file: params.yaml loaded successfully]\n",
      "[[2024-05-14 20:30:36,120]: INFO: common: created directory at: artifacts]\n",
      "[[2024-05-14 20:30:36,125]: INFO: common: created directory at: artifacts/data_ingestion]\n",
      "[[2024-05-14 20:30:36,151]: INFO: 1368670523: File artifacts/data_ingestion/data.zip already exists]\n",
      "[[2024-05-14 20:30:36,165]: INFO: 1368670523: File size: ~ 11345 KB]\n",
      "[[2024-05-14 20:30:36,179]: INFO: 1368670523: Directory artifacts/data_ingestion already exists]\n",
      "[[2024-05-14 20:30:36,184]: INFO: 1368670523: Unzipping artifacts/data_ingestion/data.zip to artifacts/data_ingestion]\n",
      "[[2024-05-14 20:30:36,622]: INFO: 1368670523: Unzipped artifacts/data_ingestion/data.zip to artifacts/data_ingestion]\n",
      "[[2024-05-14 20:30:36,623]: INFO: 1641388812: Data Ingestion Completed]\n"
     ]
    }
   ],
   "source": [
    "try:\n",
    "    config=ConfigurationManager()\n",
    "    data_ingestion_config=config.get_data_ingestion_config()\n",
    "    data_ingestion=DataIngestion(data_ingestion_config)\n",
    "    data_ingestion.download_data()\n",
    "    data_ingestion.unzip_data()\n",
    "    logger.info(\"Data Ingestion Completed\")\n",
    "except Exception as e:\n",
    "    logger.error(f\"Error in Data Ingestion: {e}\")\n",
    "    raise e"
   ]
  },
  {
   "cell_type": "code",
   "execution_count": 11,
   "metadata": {},
   "outputs": [
    {
     "data": {
      "text/plain": [
       "'/Volumes/RRR/Macbook-workdrive/DataScienceEnd2EndProjects/Chicken-Disease-Classification'"
      ]
     },
     "execution_count": 11,
     "metadata": {},
     "output_type": "execute_result"
    }
   ],
   "source": []
  },
  {
   "cell_type": "code",
   "execution_count": null,
   "metadata": {},
   "outputs": [],
   "source": []
  }
 ],
 "metadata": {
  "kernelspec": {
   "display_name": "chicken",
   "language": "python",
   "name": "python3"
  },
  "language_info": {
   "codemirror_mode": {
    "name": "ipython",
    "version": 3
   },
   "file_extension": ".py",
   "mimetype": "text/x-python",
   "name": "python",
   "nbconvert_exporter": "python",
   "pygments_lexer": "ipython3",
   "version": "3.8.18"
  }
 },
 "nbformat": 4,
 "nbformat_minor": 2
}
